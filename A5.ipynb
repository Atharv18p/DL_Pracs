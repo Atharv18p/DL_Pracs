{
 "cells": [
  {
   "cell_type": "markdown",
   "metadata": {
    "id": "i_GcJlVrDgBk"
   },
   "source": []
  },
  {
   "cell_type": "code",
   "execution_count": 1,
   "metadata": {
    "id": "V51q50EbF-T9",
    "scrolled": true
   },
   "outputs": [],
   "source": [
    "#importing libraries\n",
    "from tensorflow import keras\n",
    " \n",
    "from keras.preprocessing import text\n",
    "from keras.utils import to_categorical  # Correct import\n",
    "\n",
    "from keras.preprocessing import sequence\n",
    "from keras.utils import pad_sequences\n",
    "import numpy as np\n",
    "import pandas as pd"
   ]
  },
  {
   "cell_type": "code",
   "execution_count": 2,
   "metadata": {
    "id": "wBUwYdBJElVz"
   },
   "outputs": [],
   "source": [
    "#taking random sentences as data\n",
    "data = \"\"\"Deep learning (also known as deep structured learning) is part of a broader family of machine learning methods based on artificial neural networks with representation learning. Learning can be supervised, semi-supervised or unsupervised. \n",
    "Deep-learning architectures such as deep neural networks, deep belief networks, deep reinforcement learning, recurrent neural networks, convolutional neural networks and Transformers have been applied to fields including computer vision, speech recognition, natural language processing, machine translation, bioinformatics, drug design, medical image analysis, climate science, material inspection and board game programs, where they have produced results comparable to and in some cases surpassing human expert performance.\n",
    "\"\"\"\n",
    "dl_data = data.split()"
   ]
  },
  {
   "cell_type": "code",
   "execution_count": 3,
   "metadata": {
    "colab": {
     "base_uri": "https://localhost:8080/"
    },
    "id": "celNk9LmEvm8",
    "outputId": "4e2143b6-92dc-452f-f468-7c9e6238e287"
   },
   "outputs": [
    {
     "name": "stdout",
     "output_type": "stream",
     "text": [
      "Vocabulary Size: 75\n",
      "Vocabulary Sample: [('learning', 1), ('deep', 2), ('networks', 3), ('neural', 4), ('and', 5), ('as', 6), ('of', 7), ('machine', 8), ('supervised', 9), ('have', 10)]\n"
     ]
    }
   ],
   "source": [
    "#tokenization\n",
    "tokenizer = text.Tokenizer()\n",
    "tokenizer.fit_on_texts(dl_data)\n",
    "word2id = tokenizer.word_index\n",
    "\n",
    "word2id['PAD'] = 0\n",
    "id2word = {v:k for k, v in word2id.items()}\n",
    "wids = [[word2id[w] for w in text.text_to_word_sequence(doc)] for doc in dl_data]\n",
    "\n",
    "vocab_size = len(word2id)\n",
    "embed_size = 100\n",
    "window_size = 2 \n",
    "\n",
    "print('Vocabulary Size:', vocab_size)\n",
    "print('Vocabulary Sample:', list(word2id.items())[:10])"
   ]
  },
  {
   "cell_type": "code",
   "execution_count": 4,
   "metadata": {
    "id": "AAxNYDanInQC"
   },
   "outputs": [],
   "source": [
    "# Define your generate_context_word_pairs function\n",
    "def generate_context_word_pairs(corpus, window_size=2, vocab_size=None):\n",
    "    context_length = window_size * 2\n",
    "\n",
    "    for words in corpus:\n",
    "        sentence_length = len(words)\n",
    "       \n",
    "        for index, word in enumerate(words):\n",
    "            context_words = []\n",
    "            label_word = []\n",
    "            start = index - window_size\n",
    "            end = index + window_size + 1\n",
    "\n",
    "            context_words.append([words[i] for i in range(start, end) if 0 <= i < sentence_length and i != index])\n",
    "            label_word.append(word)\n",
    "\n",
    "            x = pad_sequences(context_words, maxlen=context_length)\n",
    "            y = to_categorical(label_word, num_classes=vocab_size)  # Use to_categorical\n",
    "\n",
    "            yield (x, y)\n",
    "\n",
    "# Usage example\n",
    "i = 0\n",
    "for x, y in generate_context_word_pairs(wids, window_size=window_size, vocab_size=vocab_size):\n",
    "    # Your code to process x and y goes here\n",
    "    # You can remove the \"if not in x[0]:\" line as it's not necessary\n",
    "    # Print statements for context and target are commented out\n",
    "    # Adjust your processing logic here\n",
    "    pass\n",
    "\n",
    "    i += 1\n",
    "    if i == 10:\n",
    "        break\n"
   ]
  },
  {
   "cell_type": "code",
   "execution_count": 5,
   "metadata": {
    "colab": {
     "base_uri": "https://localhost:8080/"
    },
    "id": "Rb5dNmoZKZBv",
    "outputId": "b859c07e-6989-420d-b169-8aa0b93ff367"
   },
   "outputs": [
    {
     "name": "stdout",
     "output_type": "stream",
     "text": [
      "Model: \"sequential\"\n",
      "_________________________________________________________________\n",
      " Layer (type)                Output Shape              Param #   \n",
      "=================================================================\n",
      " embedding (Embedding)       (None, 4, 100)            7500      \n",
      "                                                                 \n",
      " lambda (Lambda)             (None, 100)               0         \n",
      "                                                                 \n",
      " dense (Dense)               (None, 75)                7575      \n",
      "                                                                 \n",
      "=================================================================\n",
      "Total params: 15075 (58.89 KB)\n",
      "Trainable params: 15075 (58.89 KB)\n",
      "Non-trainable params: 0 (0.00 Byte)\n",
      "_________________________________________________________________\n",
      "None\n"
     ]
    }
   ],
   "source": [
    "#model building\n",
    "import keras.backend as K\n",
    "from keras.models import Sequential\n",
    "from keras.layers import Dense, Embedding, Lambda\n",
    "\n",
    "cbow = Sequential()\n",
    "cbow.add(Embedding(input_dim=vocab_size, output_dim=embed_size, input_length=window_size*2))\n",
    "cbow.add(Lambda(lambda x: K.mean(x, axis=1), output_shape=(embed_size,)))\n",
    "cbow.add(Dense(vocab_size, activation='softmax'))\n",
    "cbow.compile(loss='categorical_crossentropy', optimizer='rmsprop')\n",
    "\n",
    "print(cbow.summary())\n",
    "\n",
    "# from IPython.display import SVG\n",
    "# from keras.utils.vis_utils import model_to_dot\n",
    "\n",
    "# SVG(model_to_dot(cbow, show_shapes=True, show_layer_names=False, rankdir='TB').create(prog='dot', format='svg'))"
   ]
  },
  {
   "cell_type": "code",
   "execution_count": 6,
   "metadata": {
    "colab": {
     "base_uri": "https://localhost:8080/"
    },
    "id": "xs12C3MDK1q4",
    "outputId": "fe8783b3-0ee1-4286-be40-6713afa14f9c"
   },
   "outputs": [
    {
     "name": "stdout",
     "output_type": "stream",
     "text": [
      "Epoch: 1 \tLoss: 433.7678847312927\n",
      "\n",
      "Epoch: 2 \tLoss: 429.6340391635895\n",
      "\n",
      "Epoch: 3 \tLoss: 426.5555248260498\n",
      "\n",
      "Epoch: 4 \tLoss: 423.462557554245\n",
      "\n",
      "Epoch: 5 \tLoss: 420.83976697921753\n",
      "\n"
     ]
    }
   ],
   "source": [
    "for epoch in range(1, 6):\n",
    "    loss = 0.\n",
    "    i = 0\n",
    "    for x, y in generate_context_word_pairs(corpus=wids, window_size=window_size, vocab_size=vocab_size):\n",
    "        i += 1\n",
    "        loss += cbow.train_on_batch(x, y)\n",
    "        if i % 100000 == 0:\n",
    "            print('Processed {} (context, word) pairs'.format(i))\n",
    "\n",
    "    print('Epoch:', epoch, '\\tLoss:', loss)\n",
    "    print()"
   ]
  },
  {
   "cell_type": "code",
   "execution_count": 7,
   "metadata": {
    "colab": {
     "base_uri": "https://localhost:8080/",
     "height": 253
    },
    "id": "TZ3_QGKVK6Tj",
    "outputId": "cd9d167a-85a3-4cc9-eccb-faf997526122"
   },
   "outputs": [
    {
     "name": "stdout",
     "output_type": "stream",
     "text": [
      "(74, 100)\n"
     ]
    },
    {
     "data": {
      "text/html": [
       "<div>\n",
       "<style scoped>\n",
       "    .dataframe tbody tr th:only-of-type {\n",
       "        vertical-align: middle;\n",
       "    }\n",
       "\n",
       "    .dataframe tbody tr th {\n",
       "        vertical-align: top;\n",
       "    }\n",
       "\n",
       "    .dataframe thead th {\n",
       "        text-align: right;\n",
       "    }\n",
       "</style>\n",
       "<table border=\"1\" class=\"dataframe\">\n",
       "  <thead>\n",
       "    <tr style=\"text-align: right;\">\n",
       "      <th></th>\n",
       "      <th>0</th>\n",
       "      <th>1</th>\n",
       "      <th>2</th>\n",
       "      <th>3</th>\n",
       "      <th>4</th>\n",
       "      <th>5</th>\n",
       "      <th>6</th>\n",
       "      <th>7</th>\n",
       "      <th>8</th>\n",
       "      <th>9</th>\n",
       "      <th>...</th>\n",
       "      <th>90</th>\n",
       "      <th>91</th>\n",
       "      <th>92</th>\n",
       "      <th>93</th>\n",
       "      <th>94</th>\n",
       "      <th>95</th>\n",
       "      <th>96</th>\n",
       "      <th>97</th>\n",
       "      <th>98</th>\n",
       "      <th>99</th>\n",
       "    </tr>\n",
       "  </thead>\n",
       "  <tbody>\n",
       "    <tr>\n",
       "      <th>deep</th>\n",
       "      <td>-0.022259</td>\n",
       "      <td>-0.060878</td>\n",
       "      <td>0.016678</td>\n",
       "      <td>0.034775</td>\n",
       "      <td>-0.013786</td>\n",
       "      <td>0.043892</td>\n",
       "      <td>-0.046185</td>\n",
       "      <td>-0.039341</td>\n",
       "      <td>-0.036152</td>\n",
       "      <td>-0.051531</td>\n",
       "      <td>...</td>\n",
       "      <td>-0.021000</td>\n",
       "      <td>0.011192</td>\n",
       "      <td>-0.047044</td>\n",
       "      <td>-0.031826</td>\n",
       "      <td>-0.007379</td>\n",
       "      <td>-0.019068</td>\n",
       "      <td>-0.042662</td>\n",
       "      <td>-0.001140</td>\n",
       "      <td>-0.043065</td>\n",
       "      <td>-0.013345</td>\n",
       "    </tr>\n",
       "    <tr>\n",
       "      <th>networks</th>\n",
       "      <td>-0.045581</td>\n",
       "      <td>0.052467</td>\n",
       "      <td>0.057012</td>\n",
       "      <td>0.006601</td>\n",
       "      <td>0.058079</td>\n",
       "      <td>-0.053895</td>\n",
       "      <td>-0.001406</td>\n",
       "      <td>0.018578</td>\n",
       "      <td>-0.045625</td>\n",
       "      <td>-0.031360</td>\n",
       "      <td>...</td>\n",
       "      <td>0.021673</td>\n",
       "      <td>-0.017612</td>\n",
       "      <td>0.022579</td>\n",
       "      <td>-0.057040</td>\n",
       "      <td>-0.021848</td>\n",
       "      <td>-0.008740</td>\n",
       "      <td>-0.058819</td>\n",
       "      <td>-0.029761</td>\n",
       "      <td>0.052530</td>\n",
       "      <td>-0.032003</td>\n",
       "    </tr>\n",
       "    <tr>\n",
       "      <th>neural</th>\n",
       "      <td>-0.022761</td>\n",
       "      <td>-0.015829</td>\n",
       "      <td>0.048206</td>\n",
       "      <td>0.004180</td>\n",
       "      <td>0.026662</td>\n",
       "      <td>0.012026</td>\n",
       "      <td>0.024212</td>\n",
       "      <td>-0.009845</td>\n",
       "      <td>-0.003830</td>\n",
       "      <td>-0.040117</td>\n",
       "      <td>...</td>\n",
       "      <td>0.028783</td>\n",
       "      <td>-0.028019</td>\n",
       "      <td>0.034464</td>\n",
       "      <td>-0.024134</td>\n",
       "      <td>-0.041621</td>\n",
       "      <td>-0.041458</td>\n",
       "      <td>0.037261</td>\n",
       "      <td>-0.004421</td>\n",
       "      <td>-0.000345</td>\n",
       "      <td>-0.000150</td>\n",
       "    </tr>\n",
       "    <tr>\n",
       "      <th>and</th>\n",
       "      <td>0.000528</td>\n",
       "      <td>0.044162</td>\n",
       "      <td>-0.004411</td>\n",
       "      <td>0.008604</td>\n",
       "      <td>-0.035676</td>\n",
       "      <td>-0.014586</td>\n",
       "      <td>-0.005597</td>\n",
       "      <td>0.024556</td>\n",
       "      <td>-0.045509</td>\n",
       "      <td>0.030225</td>\n",
       "      <td>...</td>\n",
       "      <td>0.032072</td>\n",
       "      <td>0.039060</td>\n",
       "      <td>-0.048105</td>\n",
       "      <td>-0.035348</td>\n",
       "      <td>0.044256</td>\n",
       "      <td>0.029966</td>\n",
       "      <td>0.016837</td>\n",
       "      <td>-0.005986</td>\n",
       "      <td>-0.041124</td>\n",
       "      <td>0.004012</td>\n",
       "    </tr>\n",
       "    <tr>\n",
       "      <th>as</th>\n",
       "      <td>-0.014389</td>\n",
       "      <td>-0.008389</td>\n",
       "      <td>-0.008584</td>\n",
       "      <td>-0.005823</td>\n",
       "      <td>0.044693</td>\n",
       "      <td>0.005996</td>\n",
       "      <td>0.000427</td>\n",
       "      <td>0.006647</td>\n",
       "      <td>-0.024503</td>\n",
       "      <td>0.015301</td>\n",
       "      <td>...</td>\n",
       "      <td>-0.006592</td>\n",
       "      <td>0.049910</td>\n",
       "      <td>0.004097</td>\n",
       "      <td>0.041111</td>\n",
       "      <td>0.012217</td>\n",
       "      <td>0.006776</td>\n",
       "      <td>-0.034465</td>\n",
       "      <td>0.041075</td>\n",
       "      <td>0.006652</td>\n",
       "      <td>0.044156</td>\n",
       "    </tr>\n",
       "  </tbody>\n",
       "</table>\n",
       "<p>5 rows × 100 columns</p>\n",
       "</div>"
      ],
      "text/plain": [
       "                0         1         2         3         4         5   \\\n",
       "deep     -0.022259 -0.060878  0.016678  0.034775 -0.013786  0.043892   \n",
       "networks -0.045581  0.052467  0.057012  0.006601  0.058079 -0.053895   \n",
       "neural   -0.022761 -0.015829  0.048206  0.004180  0.026662  0.012026   \n",
       "and       0.000528  0.044162 -0.004411  0.008604 -0.035676 -0.014586   \n",
       "as       -0.014389 -0.008389 -0.008584 -0.005823  0.044693  0.005996   \n",
       "\n",
       "                6         7         8         9   ...        90        91  \\\n",
       "deep     -0.046185 -0.039341 -0.036152 -0.051531  ... -0.021000  0.011192   \n",
       "networks -0.001406  0.018578 -0.045625 -0.031360  ...  0.021673 -0.017612   \n",
       "neural    0.024212 -0.009845 -0.003830 -0.040117  ...  0.028783 -0.028019   \n",
       "and      -0.005597  0.024556 -0.045509  0.030225  ...  0.032072  0.039060   \n",
       "as        0.000427  0.006647 -0.024503  0.015301  ... -0.006592  0.049910   \n",
       "\n",
       "                92        93        94        95        96        97  \\\n",
       "deep     -0.047044 -0.031826 -0.007379 -0.019068 -0.042662 -0.001140   \n",
       "networks  0.022579 -0.057040 -0.021848 -0.008740 -0.058819 -0.029761   \n",
       "neural    0.034464 -0.024134 -0.041621 -0.041458  0.037261 -0.004421   \n",
       "and      -0.048105 -0.035348  0.044256  0.029966  0.016837 -0.005986   \n",
       "as        0.004097  0.041111  0.012217  0.006776 -0.034465  0.041075   \n",
       "\n",
       "                98        99  \n",
       "deep     -0.043065 -0.013345  \n",
       "networks  0.052530 -0.032003  \n",
       "neural   -0.000345 -0.000150  \n",
       "and      -0.041124  0.004012  \n",
       "as        0.006652  0.044156  \n",
       "\n",
       "[5 rows x 100 columns]"
      ]
     },
     "execution_count": 7,
     "metadata": {},
     "output_type": "execute_result"
    }
   ],
   "source": [
    "weights = cbow.get_weights()[0]\n",
    "weights = weights[1:]\n",
    "print(weights.shape)\n",
    "\n",
    "pd.DataFrame(weights, index=list(id2word.values())[1:]).head()"
   ]
  },
  {
   "cell_type": "code",
   "execution_count": 8,
   "metadata": {
    "colab": {
     "base_uri": "https://localhost:8080/"
    },
    "id": "UFs2IAn_LAYS",
    "outputId": "87ae1249-6a80-484f-b4a2-4d5f20734db7"
   },
   "outputs": [
    {
     "name": "stdout",
     "output_type": "stream",
     "text": [
      "(74, 74)\n"
     ]
    },
    {
     "data": {
      "text/plain": [
       "{'deep': ['inspection', 'recognition', 'medical', 'applied', 'reinforcement']}"
      ]
     },
     "execution_count": 8,
     "metadata": {},
     "output_type": "execute_result"
    }
   ],
   "source": [
    "from sklearn.metrics.pairwise import euclidean_distances\n",
    "\n",
    "distance_matrix = euclidean_distances(weights)\n",
    "print(distance_matrix.shape)\n",
    "\n",
    "similar_words = {search_term: [id2word[idx] for idx in distance_matrix[word2id[search_term]-1].argsort()[1:6]+1] \n",
    "                   for search_term in ['deep']}\n",
    "\n",
    "similar_words"
   ]
  },
  {
   "cell_type": "code",
   "execution_count": null,
   "metadata": {},
   "outputs": [],
   "source": []
  },
  {
   "cell_type": "code",
   "execution_count": null,
   "metadata": {},
   "outputs": [],
   "source": []
  },
  {
   "cell_type": "code",
   "execution_count": null,
   "metadata": {},
   "outputs": [],
   "source": []
  },
  {
   "cell_type": "code",
   "execution_count": null,
   "metadata": {},
   "outputs": [],
   "source": []
  }
 ],
 "metadata": {
  "colab": {
   "collapsed_sections": [],
   "provenance": []
  },
  "kernelspec": {
   "display_name": "Python 3 (ipykernel)",
   "language": "python",
   "name": "python3"
  },
  "language_info": {
   "codemirror_mode": {
    "name": "ipython",
    "version": 3
   },
   "file_extension": ".py",
   "mimetype": "text/x-python",
   "name": "python",
   "nbconvert_exporter": "python",
   "pygments_lexer": "ipython3",
   "version": "3.9.13"
  }
 },
 "nbformat": 4,
 "nbformat_minor": 1
}
